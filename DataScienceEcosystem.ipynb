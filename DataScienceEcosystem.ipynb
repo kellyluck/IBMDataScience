{
 "cells": [
  {
   "cell_type": "markdown",
   "id": "f743ca8c-bbdf-4b31-9087-d686e762e228",
   "metadata": {},
   "source": [
    "# Data Science Tools and Ecosystem"
   ]
  },
  {
   "cell_type": "markdown",
   "id": "1a39c501-ba92-44eb-9b91-f1e9fdd477ff",
   "metadata": {},
   "source": [
    "In this notebook, Data Science Tools and Ecosystem are summarized."
   ]
  },
  {
   "cell_type": "markdown",
   "id": "bf473148-7468-42d0-a642-949aaed36501",
   "metadata": {
    "tags": []
   },
   "source": [
    "**Objectives:**\n",
    "<ul>\n",
    "    <li>List popular languages, libraries and tools used in Data Science</li>\n",
    "    <li>Show ability to create and format Markdown cells in Jupyter</li>\n",
    "    <li>Show ability to create and execute Code cells in Jupyter</li>\n",
    "</ul>\n",
    "\n",
    "<h2>Author</h2>\n",
    "Kelly Luck"
   ]
  },
  {
   "cell_type": "markdown",
   "id": "a528f522-ae35-49c2-bb91-b60119a2c3c5",
   "metadata": {},
   "source": [
    "Some of the popular languages that data scientists use are:\n",
    "<ol>\n",
    "    <li>Python</li>\n",
    "    <li>R</li>\n",
    "    <li>Scala</li>\n",
    "    <li>Julia</li>\n",
    "</ol>"
   ]
  },
  {
   "cell_type": "markdown",
   "id": "eb71af0f-5571-4501-856e-26c8d9db16f2",
   "metadata": {},
   "source": [
    "Some of the commonly used libraries used by Data Scientists include:\n",
    "<ul>\n",
    "    <li>Pandas</li>\n",
    "    <li>NumPy</li>\n",
    "    <li>TensorFlow</li>\n",
    "    <li>MatplotLib</li>\n",
    "</ul>"
   ]
  },
  {
   "cell_type": "markdown",
   "id": "7ea57450-6e6e-4ade-8fb7-ab503cef7d56",
   "metadata": {},
   "source": [
    "|Data Science Tools|\n",
    "|-----|\n",
    "|Jupyter Notebooks|\n",
    "|RStudio|\n",
    "|Git & GitHub|"
   ]
  },
  {
   "cell_type": "markdown",
   "id": "a8836f7a-35f3-44ea-a013-4adb6e705be2",
   "metadata": {},
   "source": [
    "### Below are a few examples of evaluating arithmetic expressions in Python"
   ]
  },
  {
   "cell_type": "code",
   "execution_count": 1,
   "id": "f54c3fa4-fec5-4b66-8e61-8f7dbb95cde1",
   "metadata": {
    "tags": []
   },
   "outputs": [
    {
     "data": {
      "text/plain": [
       "17"
      ]
     },
     "execution_count": 1,
     "metadata": {},
     "output_type": "execute_result"
    }
   ],
   "source": [
    "# This is a simple operation to multiply & add\n",
    "(3*4)+5\n"
   ]
  },
  {
   "cell_type": "code",
   "execution_count": 2,
   "id": "450c765d-1adf-49e1-bc1c-8a55a9e968d5",
   "metadata": {
    "tags": []
   },
   "outputs": [
    {
     "data": {
      "text/plain": [
       "3.3333333333333335"
      ]
     },
     "execution_count": 2,
     "metadata": {},
     "output_type": "execute_result"
    }
   ],
   "source": [
    "# This will convert 200 minutes to hours by dividing by 60\n",
    "# (btw, the exercise says \"diving by 60\"!)\n",
    "200 / 60"
   ]
  },
  {
   "cell_type": "markdown",
   "id": "3a75ff3e-406c-4e63-bd39-11126b5a7989",
   "metadata": {},
   "source": []
  }
 ],
 "metadata": {
  "kernelspec": {
   "display_name": "Python",
   "language": "python",
   "name": "conda-env-python-py"
  },
  "language_info": {
   "codemirror_mode": {
    "name": "ipython",
    "version": 3
   },
   "file_extension": ".py",
   "mimetype": "text/x-python",
   "name": "python",
   "nbconvert_exporter": "python",
   "pygments_lexer": "ipython3",
   "version": "3.7.12"
  }
 },
 "nbformat": 4,
 "nbformat_minor": 5
}
